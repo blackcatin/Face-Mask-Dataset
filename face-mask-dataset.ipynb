{
 "cells": [
  {
   "cell_type": "code",
   "execution_count": 1,
   "id": "27a5d7d2",
   "metadata": {
    "_cell_guid": "b1076dfc-b9ad-4769-8c92-a6c4dae69d19",
    "_uuid": "8f2839f25d086af736a60e9eeb907d3b93b6e0e5",
    "execution": {
     "iopub.execute_input": "2025-06-09T06:29:52.607355Z",
     "iopub.status.busy": "2025-06-09T06:29:52.607111Z",
     "iopub.status.idle": "2025-06-09T06:30:02.553660Z",
     "shell.execute_reply": "2025-06-09T06:30:02.553094Z"
    },
    "papermill": {
     "duration": 9.950944,
     "end_time": "2025-06-09T06:30:02.555010",
     "exception": false,
     "start_time": "2025-06-09T06:29:52.604066",
     "status": "completed"
    },
    "tags": []
   },
   "outputs": [],
   "source": [
    "import os\n",
    "import glob\n",
    "import random\n",
    "import torch\n",
    "import torch.nn as nn\n",
    "import torch.nn.functional as F\n",
    "from torch.utils.data import Dataset, DataLoader\n",
    "from torchvision import transforms\n",
    "from torchvision.models import resnet18, ResNet18_Weights\n",
    "from PIL import Image\n",
    "from sklearn.model_selection import train_test_split\n",
    "import torch.optim as optim\n",
    "from tqdm import tqdm\n",
    "import matplotlib.pyplot as plt"
   ]
  },
  {
   "cell_type": "code",
   "execution_count": 2,
   "id": "810560cc",
   "metadata": {
    "execution": {
     "iopub.execute_input": "2025-06-09T06:30:02.561347Z",
     "iopub.status.busy": "2025-06-09T06:30:02.560485Z",
     "iopub.status.idle": "2025-06-09T06:30:02.568313Z",
     "shell.execute_reply": "2025-06-09T06:30:02.567784Z"
    },
    "papermill": {
     "duration": 0.011395,
     "end_time": "2025-06-09T06:30:02.569356",
     "exception": false,
     "start_time": "2025-06-09T06:30:02.557961",
     "status": "completed"
    },
    "tags": []
   },
   "outputs": [],
   "source": [
    "from torch.utils.data import Dataset\n",
    "from torchvision import transforms\n",
    "\n",
    "\n",
    "class FaceMaskDataset(Dataset):\n",
    "    def __init__(self, root_dir, split='train', test_size=0.2, image_size=224, random_seed=42):\n",
    "        self.root_dir = root_dir\n",
    "        self.image_size = image_size\n",
    "        self.split = split\n",
    "\n",
    "        if not os.path.exists(self.root_dir):\n",
    "            raise RuntimeError(f\"Dataset not found at {self.root_dir}.\")\n",
    "\n",
    "        self.transform = transforms.Compose([\n",
    "            transforms.Resize((self.image_size, self.image_size)),\n",
    "            transforms.ToTensor(),\n",
    "            transforms.Normalize([0.485, 0.456, 0.406],\n",
    "                                 [0.229, 0.224, 0.225])\n",
    "        ])\n",
    "\n",
    "        self.data = []\n",
    "        self.labels = []\n",
    "        self.class_names = sorted(os.listdir(self.root_dir))  # ['with_mask', 'without_mask']\n",
    "\n",
    "        for label, class_name in enumerate(self.class_names):\n",
    "            class_dir = os.path.join(self.root_dir, class_name)\n",
    "            image_paths = glob.glob(os.path.join(class_dir, '*.jpg'))\n",
    "            self.data.extend(image_paths)\n",
    "            self.labels.extend([label] * len(image_paths))\n",
    "\n",
    "        # Split dataset\n",
    "        train_data, test_data, train_labels, test_labels = train_test_split(\n",
    "            self.data, self.labels, test_size=test_size, stratify=self.labels, random_state=random_seed\n",
    "        )\n",
    "\n",
    "        if self.split == 'train':\n",
    "            self.data = train_data\n",
    "            self.labels = train_labels\n",
    "        else:\n",
    "            self.data = test_data\n",
    "            self.labels = test_labels\n",
    "\n",
    "    def __len__(self):\n",
    "        return len(self.data)\n",
    "\n",
    "    def __getitem__(self, idx):\n",
    "        image_path = self.data[idx]\n",
    "        label = self.labels[idx]\n",
    "        image = Image.open(image_path).convert('RGB')\n",
    "        image = self.transform(image)\n",
    "        return image, label"
   ]
  },
  {
   "cell_type": "code",
   "execution_count": 3,
   "id": "77bb3b3b",
   "metadata": {
    "execution": {
     "iopub.execute_input": "2025-06-09T06:30:02.572822Z",
     "iopub.status.busy": "2025-06-09T06:30:02.572628Z",
     "iopub.status.idle": "2025-06-09T06:30:02.577688Z",
     "shell.execute_reply": "2025-06-09T06:30:02.577212Z"
    },
    "papermill": {
     "duration": 0.007913,
     "end_time": "2025-06-09T06:30:02.578650",
     "exception": false,
     "start_time": "2025-06-09T06:30:02.570737",
     "status": "completed"
    },
    "tags": []
   },
   "outputs": [],
   "source": [
    "class ModelCNN(nn.Module):\n",
    "    def __init__(self, num_classes = 2):\n",
    "        super(ModelCNN, self).__init__()\n",
    "        self.conv1 = nn.Conv2d(in_channels=3, out_channels=6, kernel_size =5, padding=2)\n",
    "        self.pool = nn.MaxPool2d(kernel_size=2, stride = 2)\n",
    "\n",
    "        self.conv2 = nn.Conv2d(in_channels=6, out_channels=16,kernel_size=5)\n",
    "        \n",
    "        self.fc1 = nn.Linear(16 * 5 * 5, 120)\n",
    "        self.fc2 = nn.Linear(120, 84)\n",
    "        self.fc3 = nn.Linear(84, num_classes)\n",
    "\n",
    "    def forward(self, x):\n",
    "        x = F.relu(self.conv1(x))\n",
    "        x = self.pool(x)\n",
    "        x = F.relu(self.conv2(x))\n",
    "        x = self.pool(x)\n",
    "        print(x.size())\n",
    "        x = torch.flatten(x, 1)\n",
    "        x = F.relu(self.fc1(x))\n",
    "        x = F.relu(self.fc2(x))\n",
    "        x = self.fc3(x)\n",
    "        \n",
    "        return x"
   ]
  },
  {
   "cell_type": "code",
   "execution_count": 4,
   "id": "bbea11ec",
   "metadata": {
    "execution": {
     "iopub.execute_input": "2025-06-09T06:30:02.582209Z",
     "iopub.status.busy": "2025-06-09T06:30:02.582029Z",
     "iopub.status.idle": "2025-06-09T06:47:17.128598Z",
     "shell.execute_reply": "2025-06-09T06:47:17.127778Z"
    },
    "papermill": {
     "duration": 1034.549766,
     "end_time": "2025-06-09T06:47:17.129833",
     "exception": false,
     "start_time": "2025-06-09T06:30:02.580067",
     "status": "completed"
    },
    "tags": []
   },
   "outputs": [
    {
     "name": "stderr",
     "output_type": "stream",
     "text": [
      "Downloading: \"https://download.pytorch.org/models/resnet18-f37072fd.pth\" to /root/.cache/torch/hub/checkpoints/resnet18-f37072fd.pth\n",
      "100%|██████████| 44.7M/44.7M [00:00<00:00, 202MB/s]\n"
     ]
    },
    {
     "name": "stdout",
     "output_type": "stream",
     "text": [
      "Total parameters: 11.18M\n",
      "Trainable parameters: 11.18M\n"
     ]
    },
    {
     "name": "stderr",
     "output_type": "stream",
     "text": [
      "Epoch 1/25 - Training:  43%|████▎     | 82/189 [00:24<00:31,  3.43it/s]/usr/local/lib/python3.11/dist-packages/PIL/Image.py:1045: UserWarning: Palette images with Transparency expressed in bytes should be converted to RGBA images\n",
      "  warnings.warn(\n",
      "Epoch 1/25 - Training: 100%|██████████| 189/189 [00:55<00:00,  3.38it/s]\n",
      "Epoch 1/25 - Testing: 100%|██████████| 48/48 [00:11<00:00,  4.08it/s]\n"
     ]
    },
    {
     "name": "stdout",
     "output_type": "stream",
     "text": [
      "Epoch 1: Train Loss 0.0436, Test Loss 0.0170, Test Acc 0.9967\n"
     ]
    },
    {
     "name": "stderr",
     "output_type": "stream",
     "text": [
      "Epoch 2/25 - Training: 100%|██████████| 189/189 [00:33<00:00,  5.66it/s]\n",
      "Epoch 2/25 - Testing: 100%|██████████| 48/48 [00:06<00:00,  7.50it/s]\n"
     ]
    },
    {
     "name": "stdout",
     "output_type": "stream",
     "text": [
      "Epoch 2: Train Loss 0.0054, Test Loss 0.0101, Test Acc 0.9974\n"
     ]
    },
    {
     "name": "stderr",
     "output_type": "stream",
     "text": [
      "Epoch 3/25 - Training: 100%|██████████| 189/189 [00:33<00:00,  5.65it/s]\n",
      "Epoch 3/25 - Testing: 100%|██████████| 48/48 [00:06<00:00,  7.38it/s]\n"
     ]
    },
    {
     "name": "stdout",
     "output_type": "stream",
     "text": [
      "Epoch 3: Train Loss 0.0041, Test Loss 0.0240, Test Acc 0.9914\n"
     ]
    },
    {
     "name": "stderr",
     "output_type": "stream",
     "text": [
      "Epoch 4/25 - Training: 100%|██████████| 189/189 [00:33<00:00,  5.65it/s]\n",
      "Epoch 4/25 - Testing: 100%|██████████| 48/48 [00:06<00:00,  7.55it/s]\n"
     ]
    },
    {
     "name": "stdout",
     "output_type": "stream",
     "text": [
      "Epoch 4: Train Loss 0.0048, Test Loss 0.0180, Test Acc 0.9960\n"
     ]
    },
    {
     "name": "stderr",
     "output_type": "stream",
     "text": [
      "Epoch 5/25 - Training: 100%|██████████| 189/189 [00:33<00:00,  5.62it/s]\n",
      "Epoch 5/25 - Testing: 100%|██████████| 48/48 [00:06<00:00,  7.39it/s]\n"
     ]
    },
    {
     "name": "stdout",
     "output_type": "stream",
     "text": [
      "Epoch 5: Train Loss 0.0022, Test Loss 0.0108, Test Acc 0.9980\n"
     ]
    },
    {
     "name": "stderr",
     "output_type": "stream",
     "text": [
      "Epoch 6/25 - Training: 100%|██████████| 189/189 [00:33<00:00,  5.67it/s]\n",
      "Epoch 6/25 - Testing: 100%|██████████| 48/48 [00:06<00:00,  7.37it/s]\n"
     ]
    },
    {
     "name": "stdout",
     "output_type": "stream",
     "text": [
      "Epoch 6: Train Loss 0.0004, Test Loss 0.0116, Test Acc 0.9967\n"
     ]
    },
    {
     "name": "stderr",
     "output_type": "stream",
     "text": [
      "Epoch 7/25 - Training: 100%|██████████| 189/189 [00:33<00:00,  5.57it/s]\n",
      "Epoch 7/25 - Testing: 100%|██████████| 48/48 [00:06<00:00,  7.70it/s]\n"
     ]
    },
    {
     "name": "stdout",
     "output_type": "stream",
     "text": [
      "Epoch 7: Train Loss 0.0002, Test Loss 0.0131, Test Acc 0.9967\n"
     ]
    },
    {
     "name": "stderr",
     "output_type": "stream",
     "text": [
      "Epoch 8/25 - Training: 100%|██████████| 189/189 [00:33<00:00,  5.66it/s]\n",
      "Epoch 8/25 - Testing: 100%|██████████| 48/48 [00:07<00:00,  6.79it/s]\n"
     ]
    },
    {
     "name": "stdout",
     "output_type": "stream",
     "text": [
      "Epoch 8: Train Loss 0.0002, Test Loss 0.0144, Test Acc 0.9967\n"
     ]
    },
    {
     "name": "stderr",
     "output_type": "stream",
     "text": [
      "Epoch 9/25 - Training: 100%|██████████| 189/189 [00:34<00:00,  5.50it/s]\n",
      "Epoch 9/25 - Testing: 100%|██████████| 48/48 [00:06<00:00,  7.13it/s]\n"
     ]
    },
    {
     "name": "stdout",
     "output_type": "stream",
     "text": [
      "Epoch 9: Train Loss 0.0005, Test Loss 0.0173, Test Acc 0.9954\n"
     ]
    },
    {
     "name": "stderr",
     "output_type": "stream",
     "text": [
      "Epoch 10/25 - Training: 100%|██████████| 189/189 [00:34<00:00,  5.47it/s]\n",
      "Epoch 10/25 - Testing: 100%|██████████| 48/48 [00:06<00:00,  7.18it/s]\n"
     ]
    },
    {
     "name": "stdout",
     "output_type": "stream",
     "text": [
      "Epoch 10: Train Loss 0.0124, Test Loss 0.0234, Test Acc 0.9954\n"
     ]
    },
    {
     "name": "stderr",
     "output_type": "stream",
     "text": [
      "Epoch 11/25 - Training: 100%|██████████| 189/189 [00:34<00:00,  5.49it/s]\n",
      "Epoch 11/25 - Testing: 100%|██████████| 48/48 [00:06<00:00,  7.23it/s]\n"
     ]
    },
    {
     "name": "stdout",
     "output_type": "stream",
     "text": [
      "Epoch 11: Train Loss 0.0084, Test Loss 0.0182, Test Acc 0.9960\n"
     ]
    },
    {
     "name": "stderr",
     "output_type": "stream",
     "text": [
      "Epoch 12/25 - Training: 100%|██████████| 189/189 [00:33<00:00,  5.56it/s]\n",
      "Epoch 12/25 - Testing: 100%|██████████| 48/48 [00:06<00:00,  6.92it/s]\n"
     ]
    },
    {
     "name": "stdout",
     "output_type": "stream",
     "text": [
      "Epoch 12: Train Loss 0.0050, Test Loss 0.0223, Test Acc 0.9960\n"
     ]
    },
    {
     "name": "stderr",
     "output_type": "stream",
     "text": [
      "Epoch 13/25 - Training: 100%|██████████| 189/189 [00:33<00:00,  5.60it/s]\n",
      "Epoch 13/25 - Testing: 100%|██████████| 48/48 [00:06<00:00,  7.52it/s]\n"
     ]
    },
    {
     "name": "stdout",
     "output_type": "stream",
     "text": [
      "Epoch 13: Train Loss 0.0025, Test Loss 0.0169, Test Acc 0.9954\n"
     ]
    },
    {
     "name": "stderr",
     "output_type": "stream",
     "text": [
      "Epoch 14/25 - Training: 100%|██████████| 189/189 [00:33<00:00,  5.60it/s]\n",
      "Epoch 14/25 - Testing: 100%|██████████| 48/48 [00:06<00:00,  7.02it/s]\n"
     ]
    },
    {
     "name": "stdout",
     "output_type": "stream",
     "text": [
      "Epoch 14: Train Loss 0.0003, Test Loss 0.0171, Test Acc 0.9954\n"
     ]
    },
    {
     "name": "stderr",
     "output_type": "stream",
     "text": [
      "Epoch 15/25 - Training: 100%|██████████| 189/189 [00:33<00:00,  5.60it/s]\n",
      "Epoch 15/25 - Testing: 100%|██████████| 48/48 [00:06<00:00,  7.09it/s]\n"
     ]
    },
    {
     "name": "stdout",
     "output_type": "stream",
     "text": [
      "Epoch 15: Train Loss 0.0002, Test Loss 0.0173, Test Acc 0.9967\n"
     ]
    },
    {
     "name": "stderr",
     "output_type": "stream",
     "text": [
      "Epoch 16/25 - Training: 100%|██████████| 189/189 [00:33<00:00,  5.65it/s]\n",
      "Epoch 16/25 - Testing: 100%|██████████| 48/48 [00:06<00:00,  7.59it/s]\n"
     ]
    },
    {
     "name": "stdout",
     "output_type": "stream",
     "text": [
      "Epoch 16: Train Loss 0.0001, Test Loss 0.0177, Test Acc 0.9967\n"
     ]
    },
    {
     "name": "stderr",
     "output_type": "stream",
     "text": [
      "Epoch 17/25 - Training: 100%|██████████| 189/189 [00:33<00:00,  5.60it/s]\n",
      "Epoch 17/25 - Testing: 100%|██████████| 48/48 [00:06<00:00,  7.34it/s]\n"
     ]
    },
    {
     "name": "stdout",
     "output_type": "stream",
     "text": [
      "Epoch 17: Train Loss 0.0001, Test Loss 0.0174, Test Acc 0.9974\n"
     ]
    },
    {
     "name": "stderr",
     "output_type": "stream",
     "text": [
      "Epoch 18/25 - Training: 100%|██████████| 189/189 [00:33<00:00,  5.57it/s]\n",
      "Epoch 18/25 - Testing: 100%|██████████| 48/48 [00:06<00:00,  7.33it/s]\n"
     ]
    },
    {
     "name": "stdout",
     "output_type": "stream",
     "text": [
      "Epoch 18: Train Loss 0.0000, Test Loss 0.0177, Test Acc 0.9967\n"
     ]
    },
    {
     "name": "stderr",
     "output_type": "stream",
     "text": [
      "Epoch 19/25 - Training: 100%|██████████| 189/189 [00:33<00:00,  5.61it/s]\n",
      "Epoch 19/25 - Testing: 100%|██████████| 48/48 [00:06<00:00,  7.24it/s]\n"
     ]
    },
    {
     "name": "stdout",
     "output_type": "stream",
     "text": [
      "Epoch 19: Train Loss 0.0003, Test Loss 0.0140, Test Acc 0.9974\n"
     ]
    },
    {
     "name": "stderr",
     "output_type": "stream",
     "text": [
      "Epoch 20/25 - Training: 100%|██████████| 189/189 [00:33<00:00,  5.67it/s]\n",
      "Epoch 20/25 - Testing: 100%|██████████| 48/48 [00:06<00:00,  7.36it/s]\n"
     ]
    },
    {
     "name": "stdout",
     "output_type": "stream",
     "text": [
      "Epoch 20: Train Loss 0.0000, Test Loss 0.0122, Test Acc 0.9967\n"
     ]
    },
    {
     "name": "stderr",
     "output_type": "stream",
     "text": [
      "Epoch 21/25 - Training: 100%|██████████| 189/189 [00:33<00:00,  5.64it/s]\n",
      "Epoch 21/25 - Testing: 100%|██████████| 48/48 [00:06<00:00,  7.53it/s]\n"
     ]
    },
    {
     "name": "stdout",
     "output_type": "stream",
     "text": [
      "Epoch 21: Train Loss 0.0001, Test Loss 0.0182, Test Acc 0.9980\n"
     ]
    },
    {
     "name": "stderr",
     "output_type": "stream",
     "text": [
      "Epoch 22/25 - Training: 100%|██████████| 189/189 [00:33<00:00,  5.65it/s]\n",
      "Epoch 22/25 - Testing: 100%|██████████| 48/48 [00:06<00:00,  7.55it/s]\n"
     ]
    },
    {
     "name": "stdout",
     "output_type": "stream",
     "text": [
      "Epoch 22: Train Loss 0.0001, Test Loss 0.0169, Test Acc 0.9974\n"
     ]
    },
    {
     "name": "stderr",
     "output_type": "stream",
     "text": [
      "Epoch 23/25 - Training: 100%|██████████| 189/189 [00:33<00:00,  5.65it/s]\n",
      "Epoch 23/25 - Testing: 100%|██████████| 48/48 [00:06<00:00,  7.16it/s]\n"
     ]
    },
    {
     "name": "stdout",
     "output_type": "stream",
     "text": [
      "Epoch 23: Train Loss 0.0000, Test Loss 0.0160, Test Acc 0.9967\n"
     ]
    },
    {
     "name": "stderr",
     "output_type": "stream",
     "text": [
      "Epoch 24/25 - Training: 100%|██████████| 189/189 [00:33<00:00,  5.67it/s]\n",
      "Epoch 24/25 - Testing: 100%|██████████| 48/48 [00:06<00:00,  7.31it/s]\n"
     ]
    },
    {
     "name": "stdout",
     "output_type": "stream",
     "text": [
      "Epoch 24: Train Loss 0.0000, Test Loss 0.0160, Test Acc 0.9974\n"
     ]
    },
    {
     "name": "stderr",
     "output_type": "stream",
     "text": [
      "Epoch 25/25 - Training: 100%|██████████| 189/189 [00:33<00:00,  5.67it/s]\n",
      "Epoch 25/25 - Testing: 100%|██████████| 48/48 [00:06<00:00,  7.71it/s]"
     ]
    },
    {
     "name": "stdout",
     "output_type": "stream",
     "text": [
      "Epoch 25: Train Loss 0.0000, Test Loss 0.0155, Test Acc 0.9974\n"
     ]
    },
    {
     "name": "stderr",
     "output_type": "stream",
     "text": [
      "\n"
     ]
    }
   ],
   "source": [
    "from torchvision.models import resnet18, ResNet18_Weights\n",
    "\n",
    "batch_size = 32\n",
    "num_classes = 2\n",
    "num_epochs = 25\n",
    "device = torch.device(\"cuda\" if torch.cuda.is_available() else \"cpu\")\n",
    "\n",
    "# Load Dataset\n",
    "train_dataset = FaceMaskDataset(root_dir='/kaggle/input/face-mask-dataset/data', split='train')\n",
    "test_dataset = FaceMaskDataset(root_dir='/kaggle/input/face-mask-dataset/data', split='test')\n",
    "\n",
    "train_loader = DataLoader(train_dataset, batch_size=batch_size, shuffle=True)\n",
    "test_loader  = DataLoader(test_dataset, batch_size=batch_size, shuffle=False)\n",
    "\n",
    "# Load Pretrained ResNet18 dan ubah output layer\n",
    "model = resnet18(weights=ResNet18_Weights.DEFAULT)\n",
    "num_features = model.fc.in_features\n",
    "model.fc = nn.Linear(num_features, num_classes)\n",
    "model = model.to(device)\n",
    "\n",
    "# Optimizer dan Loss\n",
    "criterion = nn.CrossEntropyLoss()\n",
    "optimizer = optim.Adam(model.parameters(), lr=1e-4)\n",
    "\n",
    "# Cek jumlah parameter\n",
    "total_params = sum(p.numel() for p in model.parameters())\n",
    "trainable_params = sum(p.numel() for p in model.parameters() if p.requires_grad)\n",
    "print(f\"Total parameters: {total_params / 1e6:.2f}M\")\n",
    "print(f\"Trainable parameters: {trainable_params / 1e6:.2f}M\")\n",
    "\n",
    "# Training loop\n",
    "train_losses = []\n",
    "test_losses = []\n",
    "\n",
    "for epoch in range(num_epochs):\n",
    "    model.train()\n",
    "    train_loss = 0\n",
    "\n",
    "    for data, labels in tqdm(train_loader, desc=f\"Epoch {epoch+1}/{num_epochs} - Training\"):\n",
    "        data, labels = data.to(device), labels.to(device)\n",
    "        optimizer.zero_grad()\n",
    "        outputs = model(data)\n",
    "        loss = criterion(outputs, labels)\n",
    "        loss.backward()\n",
    "        optimizer.step()\n",
    "        train_loss += loss.item() * data.size(0)\n",
    "\n",
    "    # Evaluation\n",
    "    model.eval()\n",
    "    correct = 0\n",
    "    total = 0\n",
    "    test_loss = 0\n",
    "\n",
    "    with torch.no_grad():\n",
    "        for data, labels in tqdm(test_loader, desc=f\"Epoch {epoch+1}/{num_epochs} - Testing\"):\n",
    "            data, labels = data.to(device), labels.to(device)\n",
    "            outputs = model(data)\n",
    "            loss = criterion(outputs, labels)\n",
    "            test_loss += loss.item() * data.size(0)\n",
    "            _, preds = torch.max(outputs, 1)\n",
    "            correct += (preds == labels).sum().item()\n",
    "            total += labels.size(0)\n",
    "\n",
    "    acc = correct / total\n",
    "    avg_train_loss = train_loss / len(train_dataset)\n",
    "    avg_test_loss = test_loss / len(test_dataset)\n",
    "\n",
    "    train_losses.append(avg_train_loss)\n",
    "    test_losses.append(avg_test_loss)\n",
    "\n",
    "    print(f\"Epoch {epoch+1}: Train Loss {avg_train_loss:.4f}, Test Loss {avg_test_loss:.4f}, Test Acc {acc:.4f}\")"
   ]
  },
  {
   "cell_type": "code",
   "execution_count": 5,
   "id": "7b3a5772",
   "metadata": {
    "execution": {
     "iopub.execute_input": "2025-06-09T06:47:17.596972Z",
     "iopub.status.busy": "2025-06-09T06:47:17.596408Z",
     "iopub.status.idle": "2025-06-09T06:47:18.015771Z",
     "shell.execute_reply": "2025-06-09T06:47:18.015055Z"
    },
    "papermill": {
     "duration": 0.651117,
     "end_time": "2025-06-09T06:47:18.017112",
     "exception": false,
     "start_time": "2025-06-09T06:47:17.365995",
     "status": "completed"
    },
    "tags": []
   },
   "outputs": [
    {
     "data": {
      "image/png": "[encoded data removed]",
      "text/plain": [
       "<Figure size 1000x500 with 1 Axes>"
      ]
     },
     "metadata": {},
     "output_type": "display_data"
    }
   ],
   "source": [
    "\n",
    "# Save model\n",
    "torch.save({\n",
    "    'epoch': num_epochs,\n",
    "    'model_state_dict': model.state_dict(),\n",
    "    'optimizer_state_dict': optimizer.state_dict(),\n",
    "    'train_loss': train_losses,\n",
    "    'test_loss': test_losses,\n",
    "}, 'face_mask_checkpoint.pth')\n",
    "\n",
    "# Plot loss\n",
    "epochs = range(1, num_epochs + 1)\n",
    "plt.figure(figsize=(10, 5))\n",
    "plt.plot(epochs, train_losses, label='Train Loss', marker='o')\n",
    "plt.plot(epochs, test_losses, label='Test Loss', marker='x')\n",
    "plt.xlabel('Epoch')\n",
    "plt.ylabel('Loss')\n",
    "plt.title('Train vs Test Loss per Epoch')\n",
    "plt.legend()\n",
    "plt.grid(True)\n",
    "plt.tight_layout()\n",
    "plt.show()"
   ]
  }
 ],
 "metadata": {
  "kaggle": {
   "accelerator": "gpu",
   "dataSources": [
    {
     "datasetId": 809358,
     "sourceId": 1386555,
     "sourceType": "datasetVersion"
    }
   ],
   "dockerImageVersionId": 31041,
   "isGpuEnabled": true,
   "isInternetEnabled": true,
   "language": "python",
   "sourceType": "notebook"
  },
  "kernelspec": {
   "display_name": "Python 3",
   "language": "python",
   "name": "python3"
  },
  "language_info": {
   "codemirror_mode": {
    "name": "ipython",
    "version": 3
   },
   "file_extension": ".py",
   "mimetype": "text/x-python",
   "name": "python",
   "nbconvert_exporter": "python",
   "pygments_lexer": "ipython3",
   "version": "3.11.11"
  },
  "papermill": {
   "default_parameters": {},
   "duration": 1052.661882,
   "end_time": "2025-06-09T06:47:21.250302",
   "environment_variables": {},
   "exception": null,
   "input_path": "__notebook__.ipynb",
   "output_path": "__notebook__.ipynb",
   "parameters": {},
   "start_time": "2025-06-09T06:29:48.588420",
   "version": "2.6.0"
  }
 },
 "nbformat": 4,
 "nbformat_minor": 5
}
